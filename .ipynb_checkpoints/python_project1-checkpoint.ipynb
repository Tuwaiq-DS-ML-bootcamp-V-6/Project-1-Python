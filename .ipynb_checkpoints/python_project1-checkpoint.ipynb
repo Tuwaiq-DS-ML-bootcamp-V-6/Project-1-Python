{
 "cells": [
  {
   "cell_type": "code",
   "execution_count": 55,
   "id": "d8db3271-ca6b-4eb3-82b1-c8a9e50fd4fb",
   "metadata": {},
   "outputs": [
    {
     "name": "stdin",
     "output_type": "stream",
     "text": [
      "Enter Full Name:  asd\n",
      "Enter Email:  dsa\n",
      "Enter list of skills (comma-separated):  s\n"
     ]
    },
    {
     "name": "stdout",
     "output_type": "stream",
     "text": [
      "welcome to tuwaiq!\n",
      "\n",
      "These are the recommended bootcamps based on your skills:\n",
      "\n",
      "These are the rest of the bootcamps:\n",
      "DATA SCIENCE\n",
      "USER INTERFACE DEVELOPMENT\n",
      "WEB DEVELOPMENT BY JAVA\n",
      "WEB DEVELOPMENT BY PYTHON\n",
      "IOS DEVELOPMENT\n",
      "APP DEVELOPMENT USING FLUTTER\n",
      "GAME DEVELOPMENT\n",
      "METAVERSE DEVELOPMENT\n"
     ]
    },
    {
     "name": "stdin",
     "output_type": "stream",
     "text": [
      "\n",
      "Please pick a bootcamp to register: data science\n"
     ]
    },
    {
     "name": "stdout",
     "output_type": "stream",
     "text": [
      "Thank you for registering in data science \n",
      "\n",
      "You are the last registeree\n"
     ]
    }
   ],
   "source": [
    "def create_user_profile(fullname, email, skills):\n",
    "    \"\"\"Returns user profile\n",
    "\n",
    "    This function takes the useful skills and saves\n",
    "    the user information into a dictionary.\n",
    "    \"\"\"\n",
    "    lowercase_skills = [skill.strip().lower() for skill in skills.split(\",\")]\n",
    "\n",
    "    allowed_skills = str(('Python','Git','SQL','HTML','CSS','JavaScript','Java',\n",
    "                        'Spring Boot','Spring Security','Unit Testing','CLI','Django',\n",
    "                        'Swift','SwiftUl','Dart','Flutter','Unity','OPP','Spark AR','Web XR','XR')).lower()\n",
    "\n",
    "    validated_skills = [skill for skill in lowercase_skills if skill in allowed_skills]\n",
    "\n",
    "    user_profile = {\n",
    "        'Name': fullname,\n",
    "        'Email': email,\n",
    "        'Skills': validated_skills\n",
    "    }\n",
    "\n",
    "    print(\"Welcome to tuwaiq!\\n\")\n",
    "    return user_profile\n",
    "\n",
    "\n",
    "\n",
    "\"\"\"\n",
    "This code takes the user info and checks his skills \n",
    "to give him bootcamp recommendations based on his skills\n",
    "and keeps track of number of registeree.\n",
    "\"\"\"\n",
    "bootcamps = {\n",
    "    'DATA SCIENCE': [19, ['Python', 'Git', 'SQL']],\n",
    "    'USER INTERFACE DEVELOPMENT': [15, ['HTML', 'CSS', 'JavaScript']],\n",
    "    'WEB DEVELOPMENT BY JAVA': [12, ['Java', 'Spring Boot', 'Spring Security', 'Unit Testing']],\n",
    "    'WEB DEVELOPMENT BY PYTHON': [17, ['CLI', 'GIT', 'Python', 'HTML', 'CSS', 'Django']],\n",
    "    'IOS DEVELOPMENT': [10, ['Swift', 'SwiftUI']],\n",
    "    'APP DEVELOPMENT USING FLUTTER': [11, ['Dart', 'Flutter']],\n",
    "    'GAME DEVELOPMENT': [2, ['Unity', 'OPP']],\n",
    "    'METAVERSE DEVELOPMENT': [3, ['Spark AR', 'Web XR', 'XR']],\n",
    "} #our bootcamps (bootcamp : number of registeree, [list of skills that are recommended for bootcamp])\n",
    "add1 = lambda a : a + 1  #increments by 1\n",
    "\n",
    "name = input(\"Enter Full Name: \")\n",
    "email = input(\"Enter Email: \")\n",
    "skills = input(\"Enter list of skills (comma-separated): \")\n",
    "user_profile = create_user_profile(name, email, skills)\n",
    "\n",
    "recommended = []\n",
    "for key in bootcamps: #loops over bootcamp name\n",
    "    for val in bootcamps [key][1]: #loops over bootcamp recommended skills\n",
    "        for skill in user_profile[\"Skills\"]: #loops over skills in user profile\n",
    "            if str(val).upper() == str(skill).upper(): #checks if any skills match the recommended bootcamp requirment\n",
    "                recommended.append(str(key))\n",
    "                break\n",
    "                \n",
    "print(\"These are the recommended bootcamps based on your skills:\")\n",
    "for name in recommended: #prints recommended bootcampsp\n",
    "    print(name)\n",
    "\n",
    "print(\"\\nThese are the rest of the bootcamps:\")\n",
    "for key in bootcamps: #prints the rest of the bootcamps (not recommended)\n",
    "    if key not in recommended:\n",
    "        print(key)\n",
    "\n",
    "while(True): #to repeat if given wrong information\n",
    "    register = input(\"\\nPlease pick a bootcamp to register:\")\n",
    "    if register.upper() in str(bootcamps.keys()).upper(): #checks if bootcamp exists\n",
    "        bootcamps[register.upper()][0] = add1(bootcamps[register.upper()][0]) #increments number of registeree by 1\n",
    "        print(\"Thank you for registering in\", register, \"\\n\")\n",
    "        if bootcamps[register.upper()][0] == 20: #checks if bootcamp limit is reached\n",
    "            del bootcamps[register.upper()] #deletes bootcamp when limit is reached so it doesn't show for others\n",
    "            print(\"Congratulations, You are the last registeree\")\n",
    "            break #breaks out of the while(True) loop\n",
    "        print(\"You are registeree number\", bootcamps[register.upper()][0])\n",
    "        break #breaks out of the while(True) loop\n",
    "    else:\n",
    "        print(\"You entered a wrong course name, please try again\")\n"
   ]
  },
  {
   "cell_type": "code",
   "execution_count": null,
   "id": "2cc674df-468c-48ef-b25a-73993be9a7e4",
   "metadata": {},
   "outputs": [],
   "source": []
  },
  {
   "cell_type": "code",
   "execution_count": null,
   "id": "2117d967-0568-4e67-84b3-0d957bc44184",
   "metadata": {},
   "outputs": [],
   "source": []
  },
  {
   "cell_type": "code",
   "execution_count": null,
   "id": "8e1d25b5-dc9e-4935-902c-45f762ca5eab",
   "metadata": {},
   "outputs": [],
   "source": []
  }
 ],
 "metadata": {
  "kernelspec": {
   "display_name": "Python 3 (ipykernel)",
   "language": "python",
   "name": "python3"
  },
  "language_info": {
   "codemirror_mode": {
    "name": "ipython",
    "version": 3
   },
   "file_extension": ".py",
   "mimetype": "text/x-python",
   "name": "python",
   "nbconvert_exporter": "python",
   "pygments_lexer": "ipython3",
   "version": "3.11.7"
  }
 },
 "nbformat": 4,
 "nbformat_minor": 5
}
