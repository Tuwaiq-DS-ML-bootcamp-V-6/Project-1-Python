{
  "cells": [
    {
      "cell_type": "markdown",
      "metadata": {},
      "source": [
        "# Project Introduction & Description\n",
        "\n",
        "## Overview\n",
        "\n",
        "This project develops a tourism recommender system that leverages temperature data to help users select the best months to visit various cities in Saudi Arabia. The recommender is designed to optimize travel plans based on climatic conditions, ensuring visitors experience the most comfortable weather during their stay.\n",
        "\n",
        "## Objectives\n",
        "\n",
        "- **Primary Goal**: To create a user-friendly recommender system that suggests the optimal travel months to Saudi Arabian cities based on historical temperature data.\n",
        "- **Secondary Goals**:\n",
        "  - To provide interactive visualizations that display temperature trends across different cities.\n",
        "  - To enable users to customize their travel recommendations by selecting preferred months.\n",
        "\n",
        "## Cities Covered (Base On Weather Terminals)\n",
        "\n",
        "The recommender system includes detailed temperature analyses for the following cities:\n",
        "- Riyadh, Jeddah, Makkah, Madinah, Dhahran\n",
        "- Taif, Tabouk, Hail, Al-Wajh, Khamis Mushait\n",
        "- Jazan, Yanbu, Al-Jawf, Bisha, Turaif\n",
        "- Hafr Al-Bbatin, Ar'ar, Rafhah, Najran, Abha\n",
        "- Qurrayat, Al-Baha, Sharurah, Al-Ahsa, Wadi Al-Dawasir\n",
        "- Al-Qaysumah\n",
        "\n",
        "## Tools and Technologies\n",
        "\n",
        "This project utilizes:\n",
        "- **Python**: For data processing and backend logic.\n",
        "- **Ipywidgets**: For generating interactive widgets that allow users to specify their travel preferences.\n",
        "\n",
        "## Expected Outcomes\n",
        "\n",
        "By the conclusion of this project, we aim to:\n",
        "- Apply Python fundementals to real-world case.\n",
        "- Deliver a robust tourism recommender system that can guide users in selecting the best months to visit selected cities in Saudi Arabia based on temperature preferences.\n",
        "- Enhance the tourism experience by providing data-driven insights into weather patterns across key destinations.\n"
      ]
    },
    {
      "cell_type": "markdown",
      "metadata": {},
      "source": [
        "## Requirment Installation (Skip If Already Installed)"
      ]
    },
    {
      "cell_type": "code",
      "execution_count": null,
      "metadata": {},
      "outputs": [],
      "source": [
        "! pip install ipywidgets"
      ]
    },
    {
      "cell_type": "markdown",
      "metadata": {},
      "source": [
        "# Setup\n",
        "\n",
        "The next cell is for initiating the project imports and global variables"
      ]
    },
    {
      "cell_type": "code",
      "execution_count": 26,
      "metadata": {},
      "outputs": [
        {
          "data": {
            "text/plain": [
              "' This dictionary should contain records for the temperature of each city by month and also the annual average temperature at the end of a list. '"
            ]
          },
          "execution_count": 26,
          "metadata": {},
          "output_type": "execute_result"
        }
      ],
      "source": [
        "import ipywidgets as widgets\n",
        "import datetime\n",
        "\n",
        "global_data = {}\n",
        "''' This dictionary should contain records for the temperature of each city by month and also the annual average temperature at the end of a list. '''"
      ]
    },
    {
      "cell_type": "markdown",
      "metadata": {},
      "source": [
        "# Data Loader Function\n",
        "\n",
        "This function `data_loader` reads temperature data from a CSV file and populates a global dictionary `global_data`. Each city's name is used as a key, and its corresponding temperature values across months are stored as lists. The data is first read from the file, the header is removed, and then each line is processed to extract the city name and temperatures. This allows for quick access to the temperature data of any included city.\n",
        "\n",
        "Example usage:\n",
        "```python\n",
        "data_loader(\"data.csv\")\n",
        "print(f\"Data loaded: {global_data}\")\n"
      ]
    },
    {
      "cell_type": "code",
      "execution_count": 27,
      "metadata": {},
      "outputs": [
        {
          "name": "stdout",
          "output_type": "stream",
          "text": [
            "Loading files...\n",
            "Data loaded: {'Riyadh': [19.9, 22.7, 29.4, 35.1, 40.3, 42.1, 44.1, 44.8, 41.4, 36.4, 27.7, 26.0, 34.2], 'Jeddah': [29.1, 29.3, 33.7, 35.2, 37.7, 39.8, 40.6, 38.3, 37.6, 36.8, 33.9, 31.1, 35.3], 'Makkah': [30.4, 31.9, 36.3, 39.9, 43.0, 44.3, 43.3, 42.1, 42.8, 41.1, 36.4, 33.3, 38.7], 'Madinah': [24.2, 26.3, 31.9, 37.3, 40.1, 42.6, 43.0, 45.9, 42.9, 37.9, 31.3, 28.5, 36.0], 'Dhahran': [21.7, 23.5, 29.1, 34.8, 39.9, 42.0, 44.1, 43.1, 41.4, 37.3, 29.7, 27.0, 34.5], 'Taif': [22.0, 25.3, 27.2, 31.5, 34.6, 35.2, 35.2, 36.5, 35.6, 32.0, 27.1, 26.0, 30.7], 'Tabouk': [18.8, 20.4, 27.7, 30.7, 34.4, 38.2, 38.9, 40.6, 36.3, 31.6, 26.1, 19.5, 30.3], 'Hail': [17.3, 19.8, 25.6, 30.5, 34.5, 38.4, 40.0, 42.0, 38.7, 32.9, 24.8, 21.7, 30.5], 'Al-Wajh': [24.9, 24.5, 28.7, 30.1, 31.7, 32.6, 34.5, 34.1, 32.8, 31.4, 29.0, 25.7, 30.0], 'Khamis Mushait': [21.6, 23.6, 24.3, 28.2, 30.9, 31.7, 31.9, 32.4, 30.6, 28.2, 24.8, 24.6, 27.7], 'Jazan': [30.3, 31.2, 33.0, 35.5, 38.0, 38.4, 37.7, 37.8, 38.5, 37.6, 35.1, 32.7, 35.5], 'Yanbu': [29.0, 29.3, 32.9, 36.6, 40.1, 39.9, 40.6, 41.5, 41.2, 39.0, 33.7, 30.7, 36.2], 'Al-Jawf': [16.1, 18.6, 26.0, 29.5, 33.9, 38.5, 40.5, 42.3, 37.6, 31.2, 23.4, 18.6, 30.3], 'Bisha': [25.1, 28.4, 31.0, 35.6, 38.4, 39.0, 40.1, 41.1, 38.4, 34.7, 30.1, 30.2, 34.3], 'Turaif': [15.3, 16.6, 24.6, 25.9, 30.5, 35.9, 37.8, 38.9, 34.8, 28.5, 20.4, 16.7, 27.2], 'Hafr Al-Bbatin': [17.6, 22.0, 28.8, 34.8, 39.8, 43.1, 45.0, 46.6, 43.0, 36.4, 27.0, 22.3, 33.9], \"Ar'ar\": [15.9, 19.2, 27.0, 29.4, 34.6, 39.9, 42.6, 43.9, 39.5, 32.6, 24.2, 18.9, 30.6], 'Rafhah': [17.0, 21.1, 27.8, 32.0, 36.6, 40.9, 43.0, 45.4, 41.1, 34.0, 25.4, 20.5, 32.1], 'Najran': [24.1, 28.3, 30.2, 34.7, 37.9, 39.0, 39.8, 39.4, 36.6, 33.0, 28.3, 28.5, 33.3], 'Abha': [19.6, 22.0, 23.1, 27.0, 30.1, 30.9, 30.8, 31.1, 29.9, 27.1, 23.2, 22.7, 26.5], 'Qurrayat': [17.5, 18.8, 27.4, 28.5, 33.2, 37.7, 39.6, 39.3, 36.3, 30.7, 22.6, 18.5, 29.2], 'Al-Baha': [22.3, 25.5, 27.0, 30.9, 34.1, 34.6, 35.4, 36.2, 34.4, 30.3, 26.0, 25.5, 30.2], 'Sharurah': [24.5, 29.2, 34.3, 38.3, 42.3, 42.6, 43.4, 43.0, 40.9, 37.2, 31.3, 30.8, 36.5], 'Al-Ahsa': [21.3, 24.3, 31.5, 37.1, 43.2, 44.4, 46.5, 46.6, 44.0, 39.0, 30.2, 28.4, 36.4], 'Wadi Al-Dawasir': [23.7, 27.0, 32.8, 38.2, 42.0, 43.2, 44.6, 45.1, 42.0, 37.0, 30.2, 29.6, 36.3], 'Al-Qaysumah': [17.2, 21.6, 29.0, 35.0, 40.1, 42.9, 45.1, 47.1, 42.8, 36.2, 27.0, 22.3, 33.9]}\n"
          ]
        }
      ],
      "source": [
        "def data_loader(target: str) -> None:\n",
        "    '''     \n",
        "    Loads numerical data from a CSV file into a global dictionary.\n",
        "    \n",
        "    Parameters:\n",
        "    - target (str): Path to the CSV file.\n",
        "\n",
        "    Example:\n",
        "    output = { \"Riyadh\": [30.1, 32.5, ...], ...}\n",
        "'''\n",
        "    # clear the data\n",
        "    global_data.clear()\n",
        "\n",
        "    print(\"Loading files...\")\n",
        "\n",
        "    # open target file\n",
        "    dataFile = open(target, \"r\")\n",
        "    \n",
        "    # here we split the data after reading by line\n",
        "    linesList = dataFile.read().split(\"\\n\")\n",
        "    \n",
        "    # here we remove the header for this file\n",
        "    linesList.remove(linesList[0])\n",
        "\n",
        "    # here we split and cast the data for each line\n",
        "    for line in linesList:\n",
        "        # here we define 2 variables to store both key and the value for the dict\n",
        "        key, value  = line.split(\",\")[0], [float(f) for f in line.split(\",\")[1:]]\n",
        "        global_data[key] = value\n",
        "\n",
        "    # Or we can use the code below insted of the loop\n",
        "    # data = {n.split(\",\")[0] : ([float(f) for f in n.split(\",\")[1:]]) for n in linesList} # this is another solution to our problem\n",
        "\n",
        "data_loader(\"data.csv\")\n",
        "print(f\"Data loaded: {global_data}\")"
      ]
    },
    {
      "cell_type": "markdown",
      "metadata": {},
      "source": [
        "# Data Filter Function\n",
        "\n",
        "The `data_filter` function filters temperature data based on user preferences for specific months and cities. It takes a list of months and cities, along with the full temperature data, and returns a new dictionary containing only the selected data slices.\n",
        "\n",
        "The function iterates over the provided data dictionary, checking if each city is in the user-selected list. If a city matches, it slices the temperature data according to the specified month range, storing the result in a new dictionary.\n",
        "\n",
        "Example usage:\n",
        "```python\n",
        "filtered_data = data_filter([0, 12], [\"Riyadh\", \"Jeddah\"], global_data)\n",
        "print(filtered_data)\n"
      ]
    },
    {
      "cell_type": "code",
      "execution_count": 58,
      "metadata": {},
      "outputs": [
        {
          "data": {
            "text/plain": [
              "{'Riyadh': [19.9,\n",
              "  22.7,\n",
              "  29.4,\n",
              "  35.1,\n",
              "  40.3,\n",
              "  42.1,\n",
              "  44.1,\n",
              "  44.8,\n",
              "  41.4,\n",
              "  36.4,\n",
              "  27.7,\n",
              "  26.0],\n",
              " 'Jeddah': [29.1,\n",
              "  29.3,\n",
              "  33.7,\n",
              "  35.2,\n",
              "  37.7,\n",
              "  39.8,\n",
              "  40.6,\n",
              "  38.3,\n",
              "  37.6,\n",
              "  36.8,\n",
              "  33.9,\n",
              "  31.1]}"
            ]
          },
          "execution_count": 58,
          "metadata": {},
          "output_type": "execute_result"
        }
      ],
      "source": [
        "# this function will handle user prefrenceses such as the months range and the cities\n",
        "def data_filter(months: list[int], cities: list[str], data: dict) -> dict:\n",
        "    '''     \n",
        "    Filters temperature data based on user-selected months and cities.\n",
        "\n",
        "    Parameters:\n",
        "    - months (list[int]): Range of months (start, end) for filtering data.\n",
        "    - cities (list[str]): List of cities to include in the filtered data.\n",
        "    - data (dict): The global dictionary containing temperature data for all cities.\n",
        "\n",
        "    Returns:\n",
        "    dict: A new dictionary containing filtered data for the specified cities and months.\n",
        "\n",
        "    Example:\n",
        "    filtered_data = data_filter([0, 12], [\"Riyadh\", \"Jeddah\"], global_data)\n",
        "    print(filtered_data)\n",
        "    '''\n",
        "    newDict = {}\n",
        "\n",
        "    for key, value in data.items():\n",
        "        if key in cities:\n",
        "            newDict[key] = value[months[0]:months[1]]\n",
        "    return newDict\n",
        "\n",
        "data_filter([0,12], [\"Riyadh\", \"Jeddah\"], global_data)\n"
      ]
    },
    {
      "cell_type": "markdown",
      "metadata": {},
      "source": [
        "# Mean Temperature Calculation Function\n",
        "\n",
        "The `calculate_mean_temperature` function computes the mean temperature for each city using temperature data provided in a dictionary. It uses a lambda function to calculate the mean of temperature values for each city and rounds the result to the nearest integer.\n",
        "\n",
        "## Functionality\n",
        "- **Input**: A dictionary where each key is a city name, and the corresponding value is a list of temperature values for that city.\n",
        "- **Output**: A dictionary with cities mapped to their mean temperature.\n",
        "\n",
        "## Example Usage\n",
        "Here's how you can use this function in practice:\n",
        "\n",
        "```python\n",
        "# Filter data for Riyadh and Jeddah between January and December\n",
        "data_temp = data_filter([0, 12], [\"Riyadh\", \"Jeddah\"], global_data)\n",
        "\n",
        "# Calculate mean temperatures and print the results\n",
        "mean_temperatures = calculate_mean_temperature(data_temp)\n",
        "print(mean_temperatures)\n"
      ]
    },
    {
      "cell_type": "code",
      "execution_count": 54,
      "metadata": {},
      "outputs": [
        {
          "name": "stdout",
          "output_type": "stream",
          "text": [
            "{'Riyadh': 34, 'Jeddah': 35}\n"
          ]
        }
      ],
      "source": [
        "def calculate_mean_temperature(data: dict):\n",
        "    '''     \n",
        "    Calculates the mean temperature for each city in the provided data dictionary.\n",
        "\n",
        "    Parameters:\n",
        "    - data (dict): Dictionary containing lists of temperature values for each city.\n",
        "\n",
        "    Returns:\n",
        "    dict: A new dictionary where each city is mapped to its mean temperature, rounded to the nearest integer.\n",
        "\n",
        "    Example:\n",
        "    data_temp = data_filter([0, 12], [\"Riyadh\", \"Jeddah\"], global_data)\n",
        "    mean_temperatures = calculate_mean_temperature(data_temp)\n",
        "    print(mean_temperatures)\n",
        "    '''\n",
        "\n",
        "    try:\n",
        "        # Define a lambda function to calculate the mean temperature for a given list of temperature values\n",
        "        calculate_mean = lambda lst: sum(lst)/len(lst)\n",
        "        \n",
        "        # Calculate the mean temperature for each city in the data dictionary\n",
        "        meanTemp = {city: int(calculate_mean(temps)) for city, temps in data.items()}\n",
        "\n",
        "        # Return the dictionary of mean temperatures\n",
        "        return meanTemp\n",
        "    except:\n",
        "        print(\"Error\")\n",
        "        return data\n",
        "\n",
        "\n",
        "\n",
        "# Define the data dictionary\n",
        "data_temp = data_filter([0,12], [\"Riyadh\", \"Jeddah\"], global_data)\n",
        "\n",
        "# Call the calculate_mean_temperature function with the data dictionary as the argument\n",
        "# and print the resulting dictionary of mean temperatures\n",
        "print(calculate_mean_temperature(data_temp))"
      ]
    },
    {
      "cell_type": "markdown",
      "metadata": {},
      "source": [
        "# Weather Report Generation Function\n",
        "\n",
        "The `generate_report` function produces a detailed weather report for selected cities based on their filtered temperature data and calculated mean temperatures. It identifies the city with the lowest average temperature and lists detailed temperature data for each city.\n",
        "\n",
        "### Functionality\n",
        "- **Input**:\n",
        "  - `data_filter` (dict): Filtered temperature data for each city.\n",
        "  - `calculate_mean_temperature` (dict): Calculated mean temperatures for each city.\n",
        "- **Output**: Prints a formatted weather report indicating the best city to visit based on the lowest average temperature and details individual city temperatures.\n",
        "\n",
        "### Process\n",
        "- The function first sorts the cities by their average temperatures.\n",
        "- It prints the city with the lowest average temperature as the recommended best city to visit.\n",
        "- It then generates a detailed report for each city, listing individual temperature readings and the average temperature.\n",
        "\n",
        "### Example Usage\n",
        "Here's how you can generate a weather report using this function:\n",
        "\n",
        "```python\n",
        "# Filter data for Riyadh, Jeddah, and Taif for the first quarter\n",
        "data_filter_temp = data_filter([0, 3], [\"Riyadh\", \"Jeddah\", \"Taif\"], global_data)\n",
        "\n",
        "# Calculate mean temperatures for the filtered data\n",
        "calculate_mean_temperature_temp = calculate_mean_temperature(data_filter_temp)\n",
        "\n",
        "# Generate and print the weather report\n",
        "generate_report(data_filter_temp, calculate_mean_temperature_temp)\n"
      ]
    },
    {
      "cell_type": "code",
      "execution_count": 49,
      "metadata": {},
      "outputs": [
        {
          "name": "stdout",
          "output_type": "stream",
          "text": [
            "filtered data : {'Riyadh': [19.9, 22.7, 29.4], 'Jeddah': [29.1, 29.3, 33.7], 'Taif': [22.0, 25.3, 27.2]}\n",
            "Mean temperature data : {'Riyadh': 24, 'Jeddah': 30, 'Taif': 24}\n",
            "\n",
            "\n",
            "Based on our calculations, the best city is Riyadh\n",
            "\n",
            "the full Weather Report :\n",
            "============================================================\n",
            "\n",
            "City: Riyadh\n",
            "--------------\n",
            "Temperatures:\n",
            "1. 19.9°C\n",
            "2. 22.7°C\n",
            "3. 29.4°C\n",
            "Average Temperature: 24°C\n",
            "============================================================\n",
            "\n",
            "City: Taif\n",
            "--------------\n",
            "Temperatures:\n",
            "1. 22.0°C\n",
            "2. 25.3°C\n",
            "3. 27.2°C\n",
            "Average Temperature: 24°C\n",
            "============================================================\n",
            "\n",
            "City: Jeddah\n",
            "--------------\n",
            "Temperatures:\n",
            "1. 29.1°C\n",
            "2. 29.3°C\n",
            "3. 33.7°C\n",
            "Average Temperature: 30°C\n",
            "============================================================\n"
          ]
        }
      ],
      "source": [
        "def generate_report(data_filter, calculate_mean_temperature):\n",
        "    '''Generates a weather report based on filtered data and mean temperatures.\n",
        "\n",
        "    Parameters:\n",
        "        data_filter (dict): Filtered temperature data for each city.\n",
        "        calculate_mean_temperature (dict): Calculated mean temperatures for each city.\n",
        "\n",
        "    Example:\n",
        "        data_filter = {'Riyadh': [19.9, 22.7, 29.4], 'Jeddah': [29.1, 29.3, 33.7]}\n",
        "        calculate_mean_temperature = {'Riyadh': [33], 'Jeddah': [36],}\n",
        "        generate_report(data_filter, calculate_mean_temperature)\n",
        "\n",
        "    Output:\n",
        "        Based on our calculations, the best city is Riyadh\n",
        "        Weather Report:\n",
        "        ----------------\n",
        "        City: Riyadh\n",
        "        Temperatures: 19.9°C, 22.7°C, 29.4°C\n",
        "        Avg. Temp: 33°C\n",
        "        ----------------\n",
        "        City: Jeddah\n",
        "        Temperatures: 29.1°C, 29.3°C, 33.7°C\n",
        "        Avg. Temp: 36°C'''\n",
        "    \n",
        "    #sorting the cities from lowest average temperature to highest\n",
        "    sorted_cities = sorted(calculate_mean_temperature.items(), key=lambda x: x[1])\n",
        "    best_city = sorted_cities[0][0]\n",
        "\n",
        "    print(f\"Based on our calculations, the best city is {best_city}\")\n",
        "    print(\"\\nthe full Weather Report :\")\n",
        "    print(\"============================================================\")\n",
        "    for city, _ in sorted_cities:\n",
        "        print(f\"\\nCity: {city}\")\n",
        "        print(\"--------------\")\n",
        "        print(\"Temperatures:\")\n",
        "        for i, temp in enumerate(data_filter[city], start=1):\n",
        "            print(f\"{i}. {temp}°C\")\n",
        "        print(f\"Average Temperature: {calculate_mean_temperature[city]}°C\")\n",
        "        print(\"============================================================\")\n",
        "\n",
        "# Example:\n",
        "data_filter_temp = data_filter([0,3], [\"Riyadh\", \"Jeddah\",\"Taif\"], global_data)\n",
        "# expected output:\n",
        "# {\n",
        "#     'Riyadh': [19.9, 22.7, 29.4],\n",
        "#     'Jeddah': [29.1, 29.3, 33.7],\n",
        "#     'Taif': [22, 33, 11]\n",
        "# }\n",
        "print(f\"filtered data : {data_filter_temp}\")\n",
        "\n",
        "# calculate the mean temperature\n",
        "calculate_mean_temperature_temp = calculate_mean_temperature(data_filter_temp)\n",
        "print(f\"Mean temperature data : {calculate_mean_temperature_temp}\\n\\n\")\n",
        "# expected output:\n",
        "# {\n",
        "#     'Riyadh': [33],\n",
        "#     'Jeddah': [36],\n",
        "#     'Taif': [22]\n",
        "# }\n",
        "\n",
        "# calling the function\n",
        "generate_report(data_filter_temp, calculate_mean_temperature_temp)\n"
      ]
    },
    {
      "cell_type": "markdown",
      "metadata": {},
      "source": [
        "# Tourism Recommender System Interface\n",
        "\n",
        "This system guides travelers to the best cities in Saudi Arabia based on weather, utilizing data from the [Kingdom of Saudi Arabia Open Data Platform](https://open.data.gov.sa/ar/datasets/view/2c95f8d9-c1a9-4c4d-a1d4-b7de55a87136/resources). Users can select preferred travel months and cities, and the system recommends cities with optimal weather conditions.\n",
        "\n",
        "## Components\n",
        "\n",
        "- **Title and Description**: Introduces the purpose of the recommender.\n",
        "- **Month Selection**: A slider allows users to select a range of months for travel.\n",
        "- **City Selection**: Checkboxes let users choose cities to include in their search.\n",
        "- **Filters Accordion**: Organizes month and city selection filters into a collapsible format for easy access.\n",
        "- **Interactive Display**: Changes in selections trigger the system to display updated recommendations based on the filtered data and calculated mean temperatures.\n",
        "- **Result Presentation**: Outputs the top five recommended cities with their average temperatures in a formatted HTML table.\n",
        "\n",
        "## Interaction\n",
        "\n",
        "Users interact with the system through sliders and checkboxes to specify their preferences. The system responds dynamically, updating the displayed recommendations based on the user's selections. This interactive approach ensures users receive tailored travel advice, enhancing their planning process for visiting Saudi Arabia.\n"
      ]
    },
    {
      "cell_type": "code",
      "execution_count": 59,
      "metadata": {},
      "outputs": [
        {
          "data": {
            "application/vnd.jupyter.widget-view+json": {
              "model_id": "6068fa5c5c954b7fb7bdf32ade76a8bb",
              "version_major": 2,
              "version_minor": 0
            },
            "text/plain": [
              "Label(value='Tourism Recommender', style=LabelStyle(font_size='24px', font_weight='bold'))"
            ]
          },
          "metadata": {},
          "output_type": "display_data"
        },
        {
          "data": {
            "application/vnd.jupyter.widget-view+json": {
              "model_id": "1f9886585dd34eaa802ed029b57991e1",
              "version_major": 2,
              "version_minor": 0
            },
            "text/plain": [
              "HTML(value=\"\\n    <p>This Tourism Recommender guides travelers to the best cities in Saudi Arabia based on wea…"
            ]
          },
          "metadata": {},
          "output_type": "display_data"
        },
        {
          "data": {
            "application/vnd.jupyter.widget-view+json": {
              "model_id": "83220914c4c5404a9ed26ffe74d78e0f",
              "version_major": 2,
              "version_minor": 0
            },
            "text/plain": [
              "Accordion(children=(VBox(children=(SelectionRangeSlider(continuous_update=False, description='Select range of …"
            ]
          },
          "metadata": {},
          "output_type": "display_data"
        },
        {
          "data": {
            "application/vnd.jupyter.widget-view+json": {
              "model_id": "3de43a15bfff45b598de2988992c22ae",
              "version_major": 2,
              "version_minor": 0
            },
            "text/plain": [
              "Output()"
            ]
          },
          "metadata": {},
          "output_type": "display_data"
        },
        {
          "name": "stdout",
          "output_type": "stream",
          "text": [
            "Selected Months: [1, 11]\n",
            "Selected Cities: ['Riyadh', 'Jeddah', 'Makkah', 'Madinah', 'Dhahran', 'Taif', 'Tabouk', 'Hail', 'Al-Wajh', 'Khamis Mushait', 'Jazan', 'Yanbu', 'Al-Jawf', 'Bisha', 'Turaif', 'Hafr Al-Bbatin', \"Ar'ar\", 'Rafhah', 'Najran', 'Abha', 'Qurrayat', 'Al-Baha', 'Sharurah', 'Al-Ahsa', 'Wadi Al-Dawasir', 'Al-Qaysumah']\n",
            "{'Riyadh': [22.7, 29.4, 35.1, 40.3, 42.1, 44.1, 44.8, 41.4, 36.4, 27.7], 'Jeddah': [29.3, 33.7, 35.2, 37.7, 39.8, 40.6, 38.3, 37.6, 36.8, 33.9], 'Makkah': [31.9, 36.3, 39.9, 43.0, 44.3, 43.3, 42.1, 42.8, 41.1, 36.4], 'Madinah': [26.3, 31.9, 37.3, 40.1, 42.6, 43.0, 45.9, 42.9, 37.9, 31.3], 'Dhahran': [23.5, 29.1, 34.8, 39.9, 42.0, 44.1, 43.1, 41.4, 37.3, 29.7], 'Taif': [25.3, 27.2, 31.5, 34.6, 35.2, 35.2, 36.5, 35.6, 32.0, 27.1], 'Tabouk': [20.4, 27.7, 30.7, 34.4, 38.2, 38.9, 40.6, 36.3, 31.6, 26.1], 'Hail': [19.8, 25.6, 30.5, 34.5, 38.4, 40.0, 42.0, 38.7, 32.9, 24.8], 'Al-Wajh': [24.5, 28.7, 30.1, 31.7, 32.6, 34.5, 34.1, 32.8, 31.4, 29.0], 'Khamis Mushait': [23.6, 24.3, 28.2, 30.9, 31.7, 31.9, 32.4, 30.6, 28.2, 24.8], 'Jazan': [31.2, 33.0, 35.5, 38.0, 38.4, 37.7, 37.8, 38.5, 37.6, 35.1], 'Yanbu': [29.3, 32.9, 36.6, 40.1, 39.9, 40.6, 41.5, 41.2, 39.0, 33.7], 'Al-Jawf': [18.6, 26.0, 29.5, 33.9, 38.5, 40.5, 42.3, 37.6, 31.2, 23.4], 'Bisha': [28.4, 31.0, 35.6, 38.4, 39.0, 40.1, 41.1, 38.4, 34.7, 30.1], 'Turaif': [16.6, 24.6, 25.9, 30.5, 35.9, 37.8, 38.9, 34.8, 28.5, 20.4], 'Hafr Al-Bbatin': [22.0, 28.8, 34.8, 39.8, 43.1, 45.0, 46.6, 43.0, 36.4, 27.0], \"Ar'ar\": [19.2, 27.0, 29.4, 34.6, 39.9, 42.6, 43.9, 39.5, 32.6, 24.2], 'Rafhah': [21.1, 27.8, 32.0, 36.6, 40.9, 43.0, 45.4, 41.1, 34.0, 25.4], 'Najran': [28.3, 30.2, 34.7, 37.9, 39.0, 39.8, 39.4, 36.6, 33.0, 28.3], 'Abha': [22.0, 23.1, 27.0, 30.1, 30.9, 30.8, 31.1, 29.9, 27.1, 23.2], 'Qurrayat': [18.8, 27.4, 28.5, 33.2, 37.7, 39.6, 39.3, 36.3, 30.7, 22.6], 'Al-Baha': [25.5, 27.0, 30.9, 34.1, 34.6, 35.4, 36.2, 34.4, 30.3, 26.0], 'Sharurah': [29.2, 34.3, 38.3, 42.3, 42.6, 43.4, 43.0, 40.9, 37.2, 31.3], 'Al-Ahsa': [24.3, 31.5, 37.1, 43.2, 44.4, 46.5, 46.6, 44.0, 39.0, 30.2], 'Wadi Al-Dawasir': [27.0, 32.8, 38.2, 42.0, 43.2, 44.6, 45.1, 42.0, 37.0, 30.2], 'Al-Qaysumah': [21.6, 29.0, 35.0, 40.1, 42.9, 45.1, 47.1, 42.8, 36.2, 27.0]}\n",
            "{'Riyadh': 36, 'Jeddah': 36, 'Makkah': 40, 'Madinah': 37, 'Dhahran': 36, 'Taif': 32, 'Tabouk': 32, 'Hail': 32, 'Al-Wajh': 30, 'Khamis Mushait': 28, 'Jazan': 36, 'Yanbu': 37, 'Al-Jawf': 32, 'Bisha': 35, 'Turaif': 29, 'Hafr Al-Bbatin': 36, \"Ar'ar\": 33, 'Rafhah': 34, 'Najran': 34, 'Abha': 27, 'Qurrayat': 31, 'Al-Baha': 31, 'Sharurah': 38, 'Al-Ahsa': 38, 'Wadi Al-Dawasir': 38, 'Al-Qaysumah': 36}\n"
          ]
        },
        {
          "name": "stdout",
          "output_type": "stream",
          "text": [
            "Selected Months: [1, 12]\n",
            "Selected Cities: ['Riyadh', 'Jeddah', 'Makkah', 'Madinah', 'Dhahran', 'Taif', 'Tabouk', 'Hail', 'Al-Wajh', 'Khamis Mushait', 'Jazan', 'Yanbu', 'Al-Jawf', 'Bisha', 'Turaif', 'Hafr Al-Bbatin', \"Ar'ar\", 'Rafhah', 'Najran', 'Abha', 'Qurrayat', 'Al-Baha', 'Sharurah', 'Al-Ahsa', 'Wadi Al-Dawasir', 'Al-Qaysumah']\n",
            "{'Riyadh': [22.7, 29.4, 35.1, 40.3, 42.1, 44.1, 44.8, 41.4, 36.4, 27.7, 26.0], 'Jeddah': [29.3, 33.7, 35.2, 37.7, 39.8, 40.6, 38.3, 37.6, 36.8, 33.9, 31.1], 'Makkah': [31.9, 36.3, 39.9, 43.0, 44.3, 43.3, 42.1, 42.8, 41.1, 36.4, 33.3], 'Madinah': [26.3, 31.9, 37.3, 40.1, 42.6, 43.0, 45.9, 42.9, 37.9, 31.3, 28.5], 'Dhahran': [23.5, 29.1, 34.8, 39.9, 42.0, 44.1, 43.1, 41.4, 37.3, 29.7, 27.0], 'Taif': [25.3, 27.2, 31.5, 34.6, 35.2, 35.2, 36.5, 35.6, 32.0, 27.1, 26.0], 'Tabouk': [20.4, 27.7, 30.7, 34.4, 38.2, 38.9, 40.6, 36.3, 31.6, 26.1, 19.5], 'Hail': [19.8, 25.6, 30.5, 34.5, 38.4, 40.0, 42.0, 38.7, 32.9, 24.8, 21.7], 'Al-Wajh': [24.5, 28.7, 30.1, 31.7, 32.6, 34.5, 34.1, 32.8, 31.4, 29.0, 25.7], 'Khamis Mushait': [23.6, 24.3, 28.2, 30.9, 31.7, 31.9, 32.4, 30.6, 28.2, 24.8, 24.6], 'Jazan': [31.2, 33.0, 35.5, 38.0, 38.4, 37.7, 37.8, 38.5, 37.6, 35.1, 32.7], 'Yanbu': [29.3, 32.9, 36.6, 40.1, 39.9, 40.6, 41.5, 41.2, 39.0, 33.7, 30.7], 'Al-Jawf': [18.6, 26.0, 29.5, 33.9, 38.5, 40.5, 42.3, 37.6, 31.2, 23.4, 18.6], 'Bisha': [28.4, 31.0, 35.6, 38.4, 39.0, 40.1, 41.1, 38.4, 34.7, 30.1, 30.2], 'Turaif': [16.6, 24.6, 25.9, 30.5, 35.9, 37.8, 38.9, 34.8, 28.5, 20.4, 16.7], 'Hafr Al-Bbatin': [22.0, 28.8, 34.8, 39.8, 43.1, 45.0, 46.6, 43.0, 36.4, 27.0, 22.3], \"Ar'ar\": [19.2, 27.0, 29.4, 34.6, 39.9, 42.6, 43.9, 39.5, 32.6, 24.2, 18.9], 'Rafhah': [21.1, 27.8, 32.0, 36.6, 40.9, 43.0, 45.4, 41.1, 34.0, 25.4, 20.5], 'Najran': [28.3, 30.2, 34.7, 37.9, 39.0, 39.8, 39.4, 36.6, 33.0, 28.3, 28.5], 'Abha': [22.0, 23.1, 27.0, 30.1, 30.9, 30.8, 31.1, 29.9, 27.1, 23.2, 22.7], 'Qurrayat': [18.8, 27.4, 28.5, 33.2, 37.7, 39.6, 39.3, 36.3, 30.7, 22.6, 18.5], 'Al-Baha': [25.5, 27.0, 30.9, 34.1, 34.6, 35.4, 36.2, 34.4, 30.3, 26.0, 25.5], 'Sharurah': [29.2, 34.3, 38.3, 42.3, 42.6, 43.4, 43.0, 40.9, 37.2, 31.3, 30.8], 'Al-Ahsa': [24.3, 31.5, 37.1, 43.2, 44.4, 46.5, 46.6, 44.0, 39.0, 30.2, 28.4], 'Wadi Al-Dawasir': [27.0, 32.8, 38.2, 42.0, 43.2, 44.6, 45.1, 42.0, 37.0, 30.2, 29.6], 'Al-Qaysumah': [21.6, 29.0, 35.0, 40.1, 42.9, 45.1, 47.1, 42.8, 36.2, 27.0, 22.3]}\n",
            "{'Riyadh': 35, 'Jeddah': 35, 'Makkah': 39, 'Madinah': 37, 'Dhahran': 35, 'Taif': 31, 'Tabouk': 31, 'Hail': 31, 'Al-Wajh': 30, 'Khamis Mushait': 28, 'Jazan': 35, 'Yanbu': 36, 'Al-Jawf': 30, 'Bisha': 35, 'Turaif': 28, 'Hafr Al-Bbatin': 35, \"Ar'ar\": 31, 'Rafhah': 33, 'Najran': 34, 'Abha': 27, 'Qurrayat': 30, 'Al-Baha': 30, 'Sharurah': 37, 'Al-Ahsa': 37, 'Wadi Al-Dawasir': 37, 'Al-Qaysumah': 35}\n"
          ]
        },
        {
          "name": "stdout",
          "output_type": "stream",
          "text": [
            "Selected Months: [1, 12]\n",
            "Selected Cities: ['Riyadh', 'Jeddah', 'Makkah', 'Madinah', 'Dhahran', 'Taif', 'Tabouk', 'Hail', 'Al-Wajh', 'Khamis Mushait', 'Jazan', 'Yanbu', 'Al-Jawf', 'Bisha', 'Turaif', 'Hafr Al-Bbatin', \"Ar'ar\", 'Rafhah', 'Najran', 'Qurrayat', 'Al-Baha', 'Sharurah', 'Al-Ahsa', 'Wadi Al-Dawasir', 'Al-Qaysumah']\n",
            "{'Riyadh': [22.7, 29.4, 35.1, 40.3, 42.1, 44.1, 44.8, 41.4, 36.4, 27.7, 26.0], 'Jeddah': [29.3, 33.7, 35.2, 37.7, 39.8, 40.6, 38.3, 37.6, 36.8, 33.9, 31.1], 'Makkah': [31.9, 36.3, 39.9, 43.0, 44.3, 43.3, 42.1, 42.8, 41.1, 36.4, 33.3], 'Madinah': [26.3, 31.9, 37.3, 40.1, 42.6, 43.0, 45.9, 42.9, 37.9, 31.3, 28.5], 'Dhahran': [23.5, 29.1, 34.8, 39.9, 42.0, 44.1, 43.1, 41.4, 37.3, 29.7, 27.0], 'Taif': [25.3, 27.2, 31.5, 34.6, 35.2, 35.2, 36.5, 35.6, 32.0, 27.1, 26.0], 'Tabouk': [20.4, 27.7, 30.7, 34.4, 38.2, 38.9, 40.6, 36.3, 31.6, 26.1, 19.5], 'Hail': [19.8, 25.6, 30.5, 34.5, 38.4, 40.0, 42.0, 38.7, 32.9, 24.8, 21.7], 'Al-Wajh': [24.5, 28.7, 30.1, 31.7, 32.6, 34.5, 34.1, 32.8, 31.4, 29.0, 25.7], 'Khamis Mushait': [23.6, 24.3, 28.2, 30.9, 31.7, 31.9, 32.4, 30.6, 28.2, 24.8, 24.6], 'Jazan': [31.2, 33.0, 35.5, 38.0, 38.4, 37.7, 37.8, 38.5, 37.6, 35.1, 32.7], 'Yanbu': [29.3, 32.9, 36.6, 40.1, 39.9, 40.6, 41.5, 41.2, 39.0, 33.7, 30.7], 'Al-Jawf': [18.6, 26.0, 29.5, 33.9, 38.5, 40.5, 42.3, 37.6, 31.2, 23.4, 18.6], 'Bisha': [28.4, 31.0, 35.6, 38.4, 39.0, 40.1, 41.1, 38.4, 34.7, 30.1, 30.2], 'Turaif': [16.6, 24.6, 25.9, 30.5, 35.9, 37.8, 38.9, 34.8, 28.5, 20.4, 16.7], 'Hafr Al-Bbatin': [22.0, 28.8, 34.8, 39.8, 43.1, 45.0, 46.6, 43.0, 36.4, 27.0, 22.3], \"Ar'ar\": [19.2, 27.0, 29.4, 34.6, 39.9, 42.6, 43.9, 39.5, 32.6, 24.2, 18.9], 'Rafhah': [21.1, 27.8, 32.0, 36.6, 40.9, 43.0, 45.4, 41.1, 34.0, 25.4, 20.5], 'Najran': [28.3, 30.2, 34.7, 37.9, 39.0, 39.8, 39.4, 36.6, 33.0, 28.3, 28.5], 'Qurrayat': [18.8, 27.4, 28.5, 33.2, 37.7, 39.6, 39.3, 36.3, 30.7, 22.6, 18.5], 'Al-Baha': [25.5, 27.0, 30.9, 34.1, 34.6, 35.4, 36.2, 34.4, 30.3, 26.0, 25.5], 'Sharurah': [29.2, 34.3, 38.3, 42.3, 42.6, 43.4, 43.0, 40.9, 37.2, 31.3, 30.8], 'Al-Ahsa': [24.3, 31.5, 37.1, 43.2, 44.4, 46.5, 46.6, 44.0, 39.0, 30.2, 28.4], 'Wadi Al-Dawasir': [27.0, 32.8, 38.2, 42.0, 43.2, 44.6, 45.1, 42.0, 37.0, 30.2, 29.6], 'Al-Qaysumah': [21.6, 29.0, 35.0, 40.1, 42.9, 45.1, 47.1, 42.8, 36.2, 27.0, 22.3]}\n",
            "{'Riyadh': 35, 'Jeddah': 35, 'Makkah': 39, 'Madinah': 37, 'Dhahran': 35, 'Taif': 31, 'Tabouk': 31, 'Hail': 31, 'Al-Wajh': 30, 'Khamis Mushait': 28, 'Jazan': 35, 'Yanbu': 36, 'Al-Jawf': 30, 'Bisha': 35, 'Turaif': 28, 'Hafr Al-Bbatin': 35, \"Ar'ar\": 31, 'Rafhah': 33, 'Najran': 34, 'Qurrayat': 30, 'Al-Baha': 30, 'Sharurah': 37, 'Al-Ahsa': 37, 'Wadi Al-Dawasir': 37, 'Al-Qaysumah': 35}\n"
          ]
        },
        {
          "name": "stdout",
          "output_type": "stream",
          "text": [
            "Selected Months: [1, 12]\n",
            "Selected Cities: ['Riyadh', 'Jeddah', 'Makkah', 'Madinah', 'Dhahran', 'Taif', 'Tabouk', 'Hail', 'Al-Wajh', 'Khamis Mushait', 'Jazan', 'Yanbu', 'Al-Jawf', 'Bisha', 'Turaif', 'Hafr Al-Bbatin', \"Ar'ar\", 'Rafhah', 'Najran', 'Abha', 'Qurrayat', 'Al-Baha', 'Sharurah', 'Al-Ahsa', 'Wadi Al-Dawasir', 'Al-Qaysumah']\n",
            "{'Riyadh': [22.7, 29.4, 35.1, 40.3, 42.1, 44.1, 44.8, 41.4, 36.4, 27.7, 26.0], 'Jeddah': [29.3, 33.7, 35.2, 37.7, 39.8, 40.6, 38.3, 37.6, 36.8, 33.9, 31.1], 'Makkah': [31.9, 36.3, 39.9, 43.0, 44.3, 43.3, 42.1, 42.8, 41.1, 36.4, 33.3], 'Madinah': [26.3, 31.9, 37.3, 40.1, 42.6, 43.0, 45.9, 42.9, 37.9, 31.3, 28.5], 'Dhahran': [23.5, 29.1, 34.8, 39.9, 42.0, 44.1, 43.1, 41.4, 37.3, 29.7, 27.0], 'Taif': [25.3, 27.2, 31.5, 34.6, 35.2, 35.2, 36.5, 35.6, 32.0, 27.1, 26.0], 'Tabouk': [20.4, 27.7, 30.7, 34.4, 38.2, 38.9, 40.6, 36.3, 31.6, 26.1, 19.5], 'Hail': [19.8, 25.6, 30.5, 34.5, 38.4, 40.0, 42.0, 38.7, 32.9, 24.8, 21.7], 'Al-Wajh': [24.5, 28.7, 30.1, 31.7, 32.6, 34.5, 34.1, 32.8, 31.4, 29.0, 25.7], 'Khamis Mushait': [23.6, 24.3, 28.2, 30.9, 31.7, 31.9, 32.4, 30.6, 28.2, 24.8, 24.6], 'Jazan': [31.2, 33.0, 35.5, 38.0, 38.4, 37.7, 37.8, 38.5, 37.6, 35.1, 32.7], 'Yanbu': [29.3, 32.9, 36.6, 40.1, 39.9, 40.6, 41.5, 41.2, 39.0, 33.7, 30.7], 'Al-Jawf': [18.6, 26.0, 29.5, 33.9, 38.5, 40.5, 42.3, 37.6, 31.2, 23.4, 18.6], 'Bisha': [28.4, 31.0, 35.6, 38.4, 39.0, 40.1, 41.1, 38.4, 34.7, 30.1, 30.2], 'Turaif': [16.6, 24.6, 25.9, 30.5, 35.9, 37.8, 38.9, 34.8, 28.5, 20.4, 16.7], 'Hafr Al-Bbatin': [22.0, 28.8, 34.8, 39.8, 43.1, 45.0, 46.6, 43.0, 36.4, 27.0, 22.3], \"Ar'ar\": [19.2, 27.0, 29.4, 34.6, 39.9, 42.6, 43.9, 39.5, 32.6, 24.2, 18.9], 'Rafhah': [21.1, 27.8, 32.0, 36.6, 40.9, 43.0, 45.4, 41.1, 34.0, 25.4, 20.5], 'Najran': [28.3, 30.2, 34.7, 37.9, 39.0, 39.8, 39.4, 36.6, 33.0, 28.3, 28.5], 'Abha': [22.0, 23.1, 27.0, 30.1, 30.9, 30.8, 31.1, 29.9, 27.1, 23.2, 22.7], 'Qurrayat': [18.8, 27.4, 28.5, 33.2, 37.7, 39.6, 39.3, 36.3, 30.7, 22.6, 18.5], 'Al-Baha': [25.5, 27.0, 30.9, 34.1, 34.6, 35.4, 36.2, 34.4, 30.3, 26.0, 25.5], 'Sharurah': [29.2, 34.3, 38.3, 42.3, 42.6, 43.4, 43.0, 40.9, 37.2, 31.3, 30.8], 'Al-Ahsa': [24.3, 31.5, 37.1, 43.2, 44.4, 46.5, 46.6, 44.0, 39.0, 30.2, 28.4], 'Wadi Al-Dawasir': [27.0, 32.8, 38.2, 42.0, 43.2, 44.6, 45.1, 42.0, 37.0, 30.2, 29.6], 'Al-Qaysumah': [21.6, 29.0, 35.0, 40.1, 42.9, 45.1, 47.1, 42.8, 36.2, 27.0, 22.3]}\n",
            "{'Riyadh': 35, 'Jeddah': 35, 'Makkah': 39, 'Madinah': 37, 'Dhahran': 35, 'Taif': 31, 'Tabouk': 31, 'Hail': 31, 'Al-Wajh': 30, 'Khamis Mushait': 28, 'Jazan': 35, 'Yanbu': 36, 'Al-Jawf': 30, 'Bisha': 35, 'Turaif': 28, 'Hafr Al-Bbatin': 35, \"Ar'ar\": 31, 'Rafhah': 33, 'Najran': 34, 'Abha': 27, 'Qurrayat': 30, 'Al-Baha': 30, 'Sharurah': 37, 'Al-Ahsa': 37, 'Wadi Al-Dawasir': 37, 'Al-Qaysumah': 35}\n"
          ]
        }
      ],
      "source": [
        "# Title and Project Description\n",
        "title = widgets.Label(value='Tourism Recommender', style={'font_weight': 'bold', 'font_size': '24px'})\n",
        "description = widgets.HTML(value=\"\"\"\n",
        "    <p>This Tourism Recommender guides travelers to the best cities in Saudi Arabia based on weather. \n",
        "    By selecting months, users see recommended cities with ideal weather conditions. The data, sourced from \n",
        "    the <a href='https://open.data.gov.sa/ar/datasets/view/2c95f8d9-c1a9-4c4d-a1d4-b7de55a87136/resources' target='_blank'>Kingdom of Saudi Arabia Open Data Platform</a>, \n",
        "    helps tourists plan their visits for an optimal travel experience.</p>\"\"\",\n",
        "    style={'font_size': '16px'})\n",
        "\n",
        "# Months filter setup\n",
        "dates = [datetime.date(2015, i, 1) for i in range(1, 13)]\n",
        "options = [(i.strftime('%b'), i) for i in dates]\n",
        "slider = widgets.SelectionRangeSlider(\n",
        "    options=options,\n",
        "    index=(0, 11),\n",
        "    description=\"Select range of months: \",\n",
        "    continuous_update=False\n",
        ")\n",
        "\n",
        "# Cities filter setup\n",
        "cities_checkboxes = {city: widgets.Checkbox(value=True, description=city, indent=False) for city in global_data.keys()}\n",
        "cities_box = widgets.VBox(list(cities_checkboxes.values()))\n",
        "\n",
        "# Accordion to hold filters\n",
        "accordion = widgets.Accordion(children=[widgets.VBox([slider]), cities_box], titles=(\"Months\", \"Cities\"))\n",
        "\n",
        "# Display function on widget interaction\n",
        "def on_change(change):\n",
        "    if change['type'] == 'change' and change['name'] == 'value':\n",
        "        month_range = slider.value\n",
        "        month_range =[month_range[0].month,month_range[1].month]\n",
        "        selected_cities = [city for city, cb in cities_checkboxes.items() if cb.value]\n",
        "        print(f\"Selected Months: {month_range}\")\n",
        "        print(f\"Selected Cities: {selected_cities}\")\n",
        "        new_filtered_data = data_filter(month_range,selected_cities,global_data)\n",
        "        print(new_filtered_data)\n",
        "        new_filtered_cal_data = calculate_mean_temperature(new_filtered_data)\n",
        "        print(new_filtered_cal_data)\n",
        "        update(new_filtered_cal_data)  # Pass current state of data for processing\n",
        "\n",
        "# add onChange event\n",
        "slider.observe(on_change)\n",
        "for checkbox in cities_checkboxes.values():\n",
        "    checkbox.observe(on_change)\n",
        "\n",
        "# Display title and description\n",
        "display(title, description)\n",
        "\n",
        "# Display accordion for filters\n",
        "display(accordion)\n",
        "\n",
        "# Create an output widget to display results\n",
        "output = widgets.Output()\n",
        "\n",
        "# Function to update the displayed data, adjusted to output widget\n",
        "def update(updateData):\n",
        "    with output:\n",
        "        output.clear_output()  # Clear the existing output\n",
        "        # Proceed with your sorted data and HTML table generation\n",
        "        sorted_cities = sorted(updateData.items(), key=lambda x: x[1], reverse=False)[:5]\n",
        "        html = '<table style=\"width:50%; margin: auto; border-collapse: collapse; border: 1px solid black;\">'\n",
        "        html += '<caption style=\"font-size: 20px; font-weight: bold; margin: 10px;\">Top 5 Cities by Mean Temperature</caption>'\n",
        "        html += '<tr><th style=\"border: 1px solid black; padding: 8px; text-align: center;\">City</th><th style=\"border: 1px solid black; padding: 8px; text-align: center;\">Mean Temperature (°C)</th></tr>'\n",
        "        for city, temp in sorted_cities:\n",
        "            html += f'<tr><td style=\"border: 1px solid black; padding: 8px; text-align: center;\">{city}</td><td style=\"border: 1px solid black; padding: 8px; text-align: center;\">{temp}</td></tr>'\n",
        "        html += '</table>'\n",
        "        display(widgets.HTML(value=html))\n",
        "\n",
        "# Display the output widget below the accordion\n",
        "display(output)\n"
      ]
    },
    {
      "cell_type": "code",
      "execution_count": null,
      "metadata": {},
      "outputs": [],
      "source": []
    }
  ],
  "metadata": {
    "kernelspec": {
      "display_name": "Python 3 (ipykernel)",
      "language": "python",
      "name": "python3"
    },
    "language_info": {
      "codemirror_mode": {
        "name": "ipython",
        "version": 3
      },
      "file_extension": ".py",
      "mimetype": "text/x-python",
      "name": "python",
      "nbconvert_exporter": "python",
      "pygments_lexer": "ipython3",
      "version": "3.11.1"
    },
    "varInspector": {
      "cols": {
        "lenName": 16,
        "lenType": 16,
        "lenVar": 40
      },
      "kernels_config": {
        "python": {
          "delete_cmd_postfix": "",
          "delete_cmd_prefix": "del ",
          "library": "var_list.py",
          "varRefreshCmd": "print(var_dic_list())"
        },
        "r": {
          "delete_cmd_postfix": ") ",
          "delete_cmd_prefix": "rm(",
          "library": "var_list.r",
          "varRefreshCmd": "cat(var_dic_list()) "
        }
      },
      "types_to_exclude": [
        "module",
        "function",
        "builtin_function_or_method",
        "instance",
        "_Feature"
      ],
      "window_display": false
    }
  },
  "nbformat": 4,
  "nbformat_minor": 2
}
